{
 "cells": [
  {
   "cell_type": "code",
   "execution_count": 22,
   "metadata": {},
   "outputs": [],
   "source": [
    "import os\n",
    "import pandas as pd\n",
    "\n",
    "# Path to the folder containing the CSV files\n",
    "folder_path = 'D:/IDM/temperature_data'  # Ensure this points to your folder\n"
   ]
  },
  {
   "cell_type": "code",
   "execution_count": 23,
   "metadata": {},
   "outputs": [],
   "source": [
    "# Initialize data structures\n",
    "yearly_results = {}\n",
    "station_yearly_ranges = {}\n",
    "station_avg_temps = {}\n",
    "\n",
    "# Define season\n",
    "season_mapping = {\n",
    "    12: 'Summer', 1: 'Summer', 2: 'Summer',\n",
    "    3: 'Autumn', 4: 'Autumn', 5: 'Autumn',\n",
    "    6: 'Winter', 7: 'Winter', 8: 'Winter',\n",
    "    9: 'Spring', 10: 'Spring', 11: 'Spring'\n",
    "}\n"
   ]
  },
  {
   "cell_type": "code",
   "execution_count": 24,
   "metadata": {},
   "outputs": [],
   "source": [
    "# Process file in the folder\n",
    "for file_name in os.listdir(folder_path):\n",
    "    if file_name.endswith('.csv'):\n",
    "        try:\n",
    "            # Extract year from the file name\n",
    "            year = int(file_name.split('_')[-1].split('.')[0])  # Extracts '1986'\n",
    "        except ValueError:\n",
    "            print(f'Skipping file: {file_name} (invalid year format)')\n",
    "            continue\n",
    "\n",
    "        # Read the CSV file\n",
    "        file_path = os.path.join(folder_path, file_name)\n",
    "        data = pd.read_csv(file_path)\n",
    "\n",
    "        # Initialize yearly data structure\n",
    "        if year not in yearly_results:\n",
    "            yearly_results[year] = {'Summer': {'sum': 0, 'count': 0},\n",
    "                                    'Autumn': {'sum': 0, 'count': 0},\n",
    "                                    'Winter': {'sum': 0, 'count': 0},\n",
    "                                    'Spring': {'sum': 0, 'count': 0}}\n",
    "        \n",
    "        for _, row in data.iterrows():\n",
    "            station_name = row['STATION_NAME']\n",
    "\n",
    "            # Initialize station-year data structure\n",
    "            if (station_name, year) not in station_yearly_ranges:\n",
    "                station_yearly_ranges[(station_name, year)] = {'min_temp': float('inf'), 'max_temp': float('-inf')}\n",
    "            \n",
    "            # Update seasonal and temperature range data\n",
    "            for month in range(1, 13):\n",
    "                temp = row.iloc[3 + month]\n",
    "                season = season_mapping[month]\n",
    "\n",
    "                # Update yearly seasonal data\n",
    "                yearly_results[year][season]['sum'] += temp\n",
    "                yearly_results[year][season]['count'] += 1\n",
    "\n",
    "                # Update min/max for station's yearly temperature range\n",
    "                station_yearly_ranges[(station_name, year)]['min_temp'] = min(\n",
    "                    station_yearly_ranges[(station_name, year)]['min_temp'], temp)\n",
    "                station_yearly_ranges[(station_name, year)]['max_temp'] = max(\n",
    "                    station_yearly_ranges[(station_name, year)]['max_temp'], temp)\n",
    "\n",
    "            # Update overall average temperature for station\n",
    "            if station_name not in station_avg_temps:\n",
    "                station_avg_temps[station_name] = {'sum': 0, 'count': 0}\n",
    "            station_avg_temps[station_name]['sum'] += row.iloc[4:16].sum()  # All monthly temps\n",
    "            station_avg_temps[station_name]['count'] += 12  # Count 12 months per row\n"
   ]
  },
  {
   "cell_type": "code",
   "execution_count": 25,
   "metadata": {},
   "outputs": [],
   "source": [
    "# Calculate seasonal averages and temperature ranges\n",
    "yearly_seasonal_averages = {\n",
    "    year: {season: (data['sum'] / data['count']) if data['count'] > 0 else None\n",
    "           for season, data in seasons.items()}\n",
    "    for year, seasons in yearly_results.items()\n",
    "}\n",
    "\n",
    "station_yearly_ranges = {\n",
    "    (station, year): data['max_temp'] - data['min_temp']\n",
    "    for (station, year), data in station_yearly_ranges.items()\n",
    "}\n"
   ]
  },
  {
   "cell_type": "code",
   "execution_count": 26,
   "metadata": {},
   "outputs": [],
   "source": [
    "# largest temperature range per year\n",
    "largest_temp_range_by_year = {}\n",
    "for (station, year), temp_range in station_yearly_ranges.items():\n",
    "    if year not in largest_temp_range_by_year or temp_range > largest_temp_range_by_year[year][1]:\n",
    "        largest_temp_range_by_year[year] = (station, temp_range)\n"
   ]
  },
  {
   "cell_type": "code",
   "execution_count": 27,
   "metadata": {},
   "outputs": [],
   "source": [
    "# warmest and coolest stations\n",
    "station_avg_temps = {station: data['sum'] / data['count'] for station, data in station_avg_temps.items()}\n",
    "warmest_temp = max(station_avg_temps.values())\n",
    "coolest_temp = min(station_avg_temps.values())\n",
    "warmest_stations = [station for station, avg_temp in station_avg_temps.items() if avg_temp == warmest_temp]\n",
    "coolest_stations = [station for station, avg_temp in station_avg_temps.items() if avg_temp == coolest_temp]\n"
   ]
  },
  {
   "cell_type": "code",
   "execution_count": 28,
   "metadata": {},
   "outputs": [
    {
     "name": "stdout",
     "output_type": "stream",
     "text": [
      "Analysis complete. Results saved to files.\n"
     ]
    }
   ],
   "source": [
    "# Save results\n",
    "with open('D:/CODE ENV/Githubaverage_temp.txt', 'w') as f:\n",
    "    f.write('Yearly Seasonal Averages:\\n')\n",
    "    for year, seasons in yearly_seasonal_averages.items():\n",
    "        f.write(f'\\nYear: {year}\\n')\n",
    "        for season, avg_temp in seasons.items():\n",
    "            f.write(f'  {season}: {avg_temp:.2f}°C\\n' if avg_temp is not None else f'  {season}: No Data\\n')\n",
    "\n",
    "with open('D:/CODE ENV/largest_temp_range_station.txt', 'w') as f:\n",
    "    f.write('Stations with the Largest Temperature Range per Year:\\n')\n",
    "    for year, (station, temp_range) in largest_temp_range_by_year.items():\n",
    "        f.write(f'Year {year}: {station} with range {temp_range:.2f}°C\\n')\n",
    "\n",
    "with open('D:/CODE ENV/warmest_and_coolest_station.txt', 'w') as f:\n",
    "    f.write('Warmest Stations:\\n')\n",
    "    for station in warmest_stations:\n",
    "        f.write(f'{station}: {warmest_temp:.2f}°C\\n')\n",
    "    f.write('\\nCoolest Stations:\\n')\n",
    "    for station in coolest_stations:\n",
    "        f.write(f'{station}: {coolest_temp:.2f}°C\\n')\n",
    "\n",
    "# print instruction if the analysis is complete\n",
    "print('Analysis complete. Results saved to files.')\n"
   ]
  }
 ],
 "metadata": {
  "kernelspec": {
   "display_name": "dataAnalysis",
   "language": "python",
   "name": "python3"
  },
  "language_info": {
   "codemirror_mode": {
    "name": "ipython",
    "version": 3
   },
   "file_extension": ".py",
   "mimetype": "text/x-python",
   "name": "python",
   "nbconvert_exporter": "python",
   "pygments_lexer": "ipython3",
   "version": "3.11.5"
  }
 },
 "nbformat": 4,
 "nbformat_minor": 2
}
