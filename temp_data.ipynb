{
 "cells": [
  {
   "cell_type": "code",
   "execution_count": 34,
   "metadata": {},
   "outputs": [],
   "source": [
    "import os\n",
    "import pandas as pd\n"
   ]
  },
  {
   "cell_type": "code",
   "execution_count": 35,
   "metadata": {},
   "outputs": [],
   "source": [
    "# Create a dictionary to store the sum of temperatures and count for each month\n",
    "monthly_data = {month: {'sum': 0, 'count': 0} for month in range(1, 13)}"
   ]
  },
  {
   "cell_type": "code",
   "execution_count": 36,
   "metadata": {},
   "outputs": [],
   "source": [
    "# Path to the folder containing the CSV files\n",
    "folder_path = \"D:/IDM/temperature_data\""
   ]
  },
  {
   "cell_type": "code",
   "execution_count": 37,
   "metadata": {},
   "outputs": [],
   "source": [
    "# Loop through each CSV file in the folder\n",
    "for file_name in os.listdir(folder_path):\n",
    "    if file_name.endswith(\".csv\"):\n",
    "        # Read the CSV file\n",
    "        file_path = os.path.join(folder_path, file_name)\n",
    "        data = pd.read_csv(file_path)\n",
    "\n",
    "        # Loop through each row in the file to accumulate data by month\n",
    "        for _, row in data.iterrows():\n",
    "            for month in range(1, 13):\n",
    "                # Get the temperature for each month (columns 4 to 15 for Jan-Dec)\n",
    "                temperature = row.iloc[3 + month]  # Adjusting index for month columns (January is at index 3)\n",
    "                monthly_data[month]['sum'] += temperature\n",
    "                monthly_data[month]['count'] += 1"
   ]
  },
  {
   "cell_type": "code",
   "execution_count": null,
   "metadata": {},
   "outputs": [],
   "source": []
  },
  {
   "cell_type": "code",
   "execution_count": 38,
   "metadata": {},
   "outputs": [],
   "source": [
    "# Calculate the average for each month and store in a dictionary\n",
    "monthly_averages = {month: monthly_data[month]['sum'] / monthly_data[month]['count']\n",
    "                    for month in monthly_data if monthly_data[month]['count'] > 0}"
   ]
  },
  {
   "cell_type": "code",
   "execution_count": 39,
   "metadata": {},
   "outputs": [],
   "source": [
    "# Save the result to file\n",
    "output_file = \"D:/IDM/temperature_data/average_temp.txt\"\n",
    "with open(output_file, 'w') as f:\n",
    "    for month, avg_temp in monthly_averages.items():\n",
    "        f.write(f\"Month {month}: {avg_temp:.2f}°C\\n\")"
   ]
  },
  {
   "cell_type": "code",
   "execution_count": 40,
   "metadata": {},
   "outputs": [
    {
     "name": "stdout",
     "output_type": "stream",
     "text": [
      "Monthly averages saved to D:/IDM/temperature_data/average_temp.txt\n"
     ]
    }
   ],
   "source": [
    "print(f\"Monthly averages saved to {output_file}\")"
   ]
  },
  {
   "cell_type": "code",
   "execution_count": 41,
   "metadata": {},
   "outputs": [
    {
     "name": "stdout",
     "output_type": "stream",
     "text": [
      "Year 1986: Average January Temperature: 32.65°C\n",
      "Year 1987: Average January Temperature: 32.60°C\n",
      "Year 1988: Average January Temperature: 32.75°C\n",
      "Year 1989: Average January Temperature: 32.81°C\n",
      "Year 1990: Average January Temperature: 32.60°C\n",
      "Year 1991: Average January Temperature: 32.72°C\n",
      "Year 1992: Average January Temperature: 32.85°C\n",
      "Year 1993: Average January Temperature: 32.68°C\n",
      "Year 1994: Average January Temperature: 32.79°C\n",
      "Year 1995: Average January Temperature: 32.51°C\n",
      "Year 1996: Average January Temperature: 32.81°C\n",
      "Year 1997: Average January Temperature: 32.98°C\n",
      "Year 1998: Average January Temperature: 32.47°C\n",
      "Year 1999: Average January Temperature: 32.74°C\n",
      "Year 2000: Average January Temperature: 32.79°C\n",
      "Year 2001: Average January Temperature: 32.71°C\n",
      "Year 2002: Average January Temperature: 32.90°C\n",
      "Year 2003: Average January Temperature: 32.67°C\n",
      "Year 2004: Average January Temperature: 32.71°C\n",
      "Year 2005: Average January Temperature: 32.77°C\n"
     ]
    }
   ],
   "source": [
    "import os\n",
    "import pandas as pd\n",
    "\n",
    "# Path to the folder containing the CSV files\n",
    "folder_path = \"D:/IDM/temperature_data\"\n",
    "\n",
    "# Create a dictionary to store the sum of temperatures and count for January for each year\n",
    "january_data = {}\n",
    "\n",
    "# Loop through each CSV file in the folder\n",
    "for file_name in os.listdir(folder_path):\n",
    "    if file_name.endswith(\".csv\"):\n",
    "        # Read the CSV file\n",
    "        file_path = os.path.join(folder_path, file_name)\n",
    "        data = pd.read_csv(file_path)\n",
    "\n",
    "        # Extract the year from the file name (assuming the file name contains the year)\n",
    "        year = int(file_name.split('.')[0].split('_')[-1])  # Adjust based on your file naming convention\n",
    "\n",
    "        # Get the January temperature (column 4 corresponds to January)\n",
    "        january_temp = data['January'].mean()  # Calculate the average temperature for January in this file\n",
    "\n",
    "        # Store the result in the dictionary, indexed by year\n",
    "        january_data[year] = january_temp\n",
    "\n",
    "# Output the average temperatures for January in each year\n",
    "for year, avg_temp in january_data.items():\n",
    "    print(f\"Year {year}: Average January Temperature: {avg_temp:.2f}°C\")\n"
   ]
  }
 ],
 "metadata": {
  "kernelspec": {
   "display_name": "dataAnalysis",
   "language": "python",
   "name": "python3"
  },
  "language_info": {
   "codemirror_mode": {
    "name": "ipython",
    "version": 3
   },
   "file_extension": ".py",
   "mimetype": "text/x-python",
   "name": "python",
   "nbconvert_exporter": "python",
   "pygments_lexer": "ipython3",
   "version": "3.11.5"
  }
 },
 "nbformat": 4,
 "nbformat_minor": 2
}
